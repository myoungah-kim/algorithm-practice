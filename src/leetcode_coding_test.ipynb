{
 "cells": [
  {
   "cell_type": "markdown",
   "metadata": {},
   "source": [
    "# Leet Code"
   ]
  },
  {
   "cell_type": "markdown",
   "metadata": {},
   "source": [
    "## 268. Missing Number\n",
    "https://leetcode.com/problems/missing-number/\n",
    "\n",
    "- 버나드 솔루션: https://bernard-choi.github.io/algorithm/2021/11/06/Leetcode-268-missing_number/"
   ]
  },
  {
   "cell_type": "code",
   "execution_count": null,
   "metadata": {},
   "outputs": [],
   "source": [
    "# set 사용\n",
    "\n",
    "def missing_number(nums):\n",
    "    n = len(nums)+1\n",
    "    full_list = set(range(n))\n",
    "    nums = set(nums)\n",
    "    missing_element = list(full_list-nums)\n",
    "    return missing_element[0]\n",
    "\n",
    "\n",
    "nums = [9,6,4,2,3,5,7,0,1]\n",
    "missing_number(nums)\n"
   ]
  },
  {
   "cell_type": "code",
   "execution_count": 5,
   "metadata": {},
   "outputs": [
    {
     "data": {
      "text/plain": [
       "8"
      ]
     },
     "execution_count": 5,
     "metadata": {},
     "output_type": "execute_result"
    }
   ],
   "source": [
    "# 풀이 1. 정렬\n",
    "# 시간 복잡도: O(n * logn)\n",
    "# 공간 복잡도: O(1)\n",
    "\n",
    "class Solution:\n",
    "    def missingNumber(self, nums: list[int]) -> int:\n",
    "        nums.sort()\n",
    "        for i in range(len(nums)):\n",
    "            if i != nums[i]:\n",
    "                return i\n",
    "            \n",
    "\n",
    "\n",
    "nums = [9,6,4,2,3,5,7,0,1]\n",
    "Solution().missingNumber(nums)"
   ]
  },
  {
   "cell_type": "code",
   "execution_count": 6,
   "metadata": {},
   "outputs": [
    {
     "data": {
      "text/plain": [
       "8"
      ]
     },
     "execution_count": 6,
     "metadata": {},
     "output_type": "execute_result"
    }
   ],
   "source": [
    "# 풀이 2. 해시 테이블 --- False로 된 리스트를 생성하고 nums 리스트의 각 원소 인덱스마다 True로 바꿔준다.\n",
    "# 시간 복잡도: O(n)\n",
    "# 공간 복잡도: O(S)\n",
    "\n",
    "class Solution:\n",
    "    def missingNumber(self, nums: list[int]) -> int:\n",
    "        n = len(nums) +1\n",
    "        my_list = [False] * n\n",
    "        for num in nums:\n",
    "            my_list[num] = True\n",
    "        \n",
    "        for i in range(len(my_list)):\n",
    "            if my_list[i] == False:\n",
    "                return i\n",
    "            \n",
    "nums = [9,6,4,2,3,5,7,0,1]\n",
    "Solution().missingNumber(nums)"
   ]
  },
  {
   "cell_type": "code",
   "execution_count": 8,
   "metadata": {},
   "outputs": [
    {
     "data": {
      "text/plain": [
       "8"
      ]
     },
     "execution_count": 8,
     "metadata": {},
     "output_type": "execute_result"
    }
   ],
   "source": [
    "# 풀이 3. 가우스의 합 -- nums의 전체 합에서 가우스 합(n*(n+1)/2)을 뺀다.\n",
    "# 시간 복잡도: O(n)\n",
    "# 공간 복잡도: O(1)\n",
    "\n",
    "class Solution:\n",
    "    def missingNumber(self, nums: list[int]) -> int:\n",
    "        n = len(nums)\n",
    "        gauss_sum = n * (n+1) // 2\n",
    "        array_sum = sum(nums)\n",
    "        return gauss_sum - array_sum\n",
    "\n",
    "            \n",
    "nums = [9,6,4,2,3,5,7,0,1]\n",
    "Solution().missingNumber(nums)"
   ]
  },
  {
   "cell_type": "code",
   "execution_count": null,
   "metadata": {},
   "outputs": [],
   "source": []
  }
 ],
 "metadata": {
  "kernelspec": {
   "display_name": "Python 3",
   "language": "python",
   "name": "python3"
  },
  "language_info": {
   "codemirror_mode": {
    "name": "ipython",
    "version": 3
   },
   "file_extension": ".py",
   "mimetype": "text/x-python",
   "name": "python",
   "nbconvert_exporter": "python",
   "pygments_lexer": "ipython3",
   "version": "3.10.8"
  }
 },
 "nbformat": 4,
 "nbformat_minor": 2
}
