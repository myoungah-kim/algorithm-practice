{
 "cells": [
  {
   "cell_type": "markdown",
   "metadata": {},
   "source": [
    "# 스택 / 큐"
   ]
  },
  {
   "cell_type": "markdown",
   "metadata": {},
   "source": [
    "## 올바른 괄호\n",
    "https://school.programmers.co.kr/learn/courses/30/lessons/12909 "
   ]
  },
  {
   "cell_type": "code",
   "execution_count": null,
   "metadata": {},
   "outputs": [],
   "source": [
    "def solution(s):\n",
    "    cur = 0\n",
    "    answer = True\n",
    "    \n",
    "    if s[0] == \")\": \n",
    "        answer = False\n",
    "        \n",
    "    else:\n",
    "        for letter in s:\n",
    "            if letter == \"(\":\n",
    "                cur += 1\n",
    "            elif letter == \")\":\n",
    "                cur -= 1\n",
    "        answer = True if cur == 0 else False \n",
    "\n",
    "    return answer\n"
   ]
  },
  {
   "cell_type": "markdown",
   "metadata": {},
   "source": [
    "## 기능개발\n",
    "https://school.programmers.co.kr/learn/courses/30/lessons/42586"
   ]
  },
  {
   "cell_type": "code",
   "execution_count": 3,
   "metadata": {},
   "outputs": [
    {
     "data": {
      "text/plain": [
       "[1]"
      ]
     },
     "execution_count": 3,
     "metadata": {},
     "output_type": "execute_result"
    }
   ],
   "source": [
    "def solution(progresses, speeds):\n",
    "    answer = []\n",
    "    cur = 0\n",
    "    remainings = [100 - progress for progress in progresses]\n",
    "    for index in range(len(remainings)):\n",
    "        try:\n",
    "            if remainings[index] <= remainings[index+1]:\n",
    "                cur = index+1\n",
    "            else:\n",
    "                cur = index\n",
    "            for count in range(cur+1): remainings.pop(0)\n",
    "            answer.append(cur)\n",
    "        except:\n",
    "            continue\n",
    "    return answer\n",
    "        \n",
    "    \n",
    "    \n",
    "solution([93, 30, 55], [1, 30, 5])"
   ]
  },
  {
   "cell_type": "markdown",
   "metadata": {},
   "source": [
    "## 프로세스\n",
    "https://school.programmers.co.kr/learn/courses/30/lessons/42587 "
   ]
  },
  {
   "cell_type": "code",
   "execution_count": 61,
   "metadata": {},
   "outputs": [],
   "source": [
    "# 1. PriorityQueue 사용\n",
    "\n",
    "from queue import PriorityQueue\n",
    "\n",
    "def solution(priorities, location):\n",
    "\n",
    "    pq = PriorityQueue(maxsize=len(priorities))\n",
    "    nth = 0\n",
    "\n",
    "    for priority, index in zip(priorities,range(len(priorities))):\n",
    "        pq.put((priority*-1, index))\n",
    "\n",
    "    while pq.qsize() > 0:\n",
    "        if pq.get()[1] == location:\n",
    "            nth += 1\n",
    "            break\n",
    "        else:\n",
    "            nth += 1\n",
    "    \n",
    "    return nth\n",
    "\n",
    "solution([1, 1, 9, 1, 1, 1], 0)"
   ]
  },
  {
   "cell_type": "code",
   "execution_count": 3,
   "metadata": {},
   "outputs": [
    {
     "data": {
      "text/plain": [
       "6"
      ]
     },
     "execution_count": 3,
     "metadata": {},
     "output_type": "execute_result"
    }
   ],
   "source": [
    "# 2. deque 사용\n",
    "\n",
    "from collections import deque\n",
    "\n",
    "priorities = [1, 1, 9, 1, 1, 1]\n",
    "location = 1\n",
    "\n",
    "def solution(priorities, location):\n",
    "    ziped = zip(priorities, range(len(priorities)))\n",
    "    my_queue = deque(ziped)\n",
    "    n = 0\n",
    "    \n",
    "    while my_queue:\n",
    "        poped = my_queue.popleft()\n",
    "        if my_queue and poped[0] < max([x[0] for x in my_queue]):\n",
    "            my_queue.append(poped)\n",
    "        else:\n",
    "            n += 1\n",
    "            if poped[1] == location:\n",
    "                return n\n",
    "\n",
    "solution(priorities, location)"
   ]
  },
  {
   "cell_type": "markdown",
   "metadata": {},
   "source": [
    "## 다리를 지나는 트럭\n",
    "https://school.programmers.co.kr/learn/courses/30/lessons/42583"
   ]
  },
  {
   "cell_type": "code",
   "execution_count": 109,
   "metadata": {},
   "outputs": [],
   "source": [
    "def solution(bridge_length, weight, truck_weights):\n",
    "    \n",
    "    time = 0\n",
    "    bridge = []\n",
    "    passed = []\n",
    "\n",
    "    while len(truck_weights) > 0 or len(bridge_length) > 0:\n",
    "        \n",
    "        bridge.append(truck_weights.pop(0))\n",
    "        \n",
    "        passed.append(bridge.pop(0))\n",
    "\n",
    "        print(passed, bridge)\n",
    "\n",
    "    # return bridge,passed\n",
    "\n",
    "\n",
    "solution([2,2,2,1], 10, [7,4,5,6])"
   ]
  },
  {
   "cell_type": "code",
   "execution_count": null,
   "metadata": {},
   "outputs": [],
   "source": [
    "# dequeue 사용\n",
    "\n",
    "from collections import deque\n",
    "\n",
    "def solution(bridge_length, weight, truck_weights):\n",
    "\n",
    "    # 트럭 리스트를 데크로 만든다.\n",
    "    truck_weights = deque(truck_weights)\n",
    "\n",
    "    # bridge_length 길이의 빈 리스트를 만든다.\n",
    "    bridge = deque([0 for _ in range(bridge_length)])\n",
    "    bridge_weight = 0\n",
    "\n",
    "    # 시간\n",
    "    time = 0\n",
    "\n",
    "    while truck_weights or bridge_weight >0: # truck_weights에 트럭이 남아 있거나, bridge에 트럭이 남아있으면 반복한다.\n",
    "        # 우선 기존의 차는 트럭이 한칸씩 이동한다.\n",
    "        completed = bridge.popleft()\n",
    "        bridge_weight -= completed\n",
    "        time += 1\n",
    "\n",
    "        if bridge_weight + truck_weights[0] <= weight: # bridge의 to-be 무게와 weight를 비교하여 건널 수 있으면 다음 트럭을 올린다\n",
    "            bridge_weight += truck_weights[0]\n",
    "            bridge.append(truck_weights.popleft())\n",
    "            \n",
    "        else: # 불가능하다면 대기한다\n",
    "            bridge.append(0)\n",
    "\n",
    "    return time"
   ]
  },
  {
   "cell_type": "code",
   "execution_count": null,
   "metadata": {},
   "outputs": [],
   "source": []
  }
 ],
 "metadata": {
  "kernelspec": {
   "display_name": "Python 3",
   "language": "python",
   "name": "python3"
  },
  "language_info": {
   "codemirror_mode": {
    "name": "ipython",
    "version": 3
   },
   "file_extension": ".py",
   "mimetype": "text/x-python",
   "name": "python",
   "nbconvert_exporter": "python",
   "pygments_lexer": "ipython3",
   "version": "3.10.8"
  },
  "orig_nbformat": 4
 },
 "nbformat": 4,
 "nbformat_minor": 2
}
