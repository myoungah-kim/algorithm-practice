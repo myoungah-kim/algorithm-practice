{
 "cells": [
  {
   "cell_type": "markdown",
   "metadata": {},
   "source": [
    "## 스택/큐 > 올바른 괄호\n",
    "https://school.programmers.co.kr/learn/courses/30/lessons/12909 "
   ]
  },
  {
   "cell_type": "code",
   "execution_count": null,
   "metadata": {},
   "outputs": [],
   "source": [
    "def solution(s):\n",
    "    cur = 0\n",
    "    answer = True\n",
    "    \n",
    "    if s[0] == \")\": \n",
    "        answer = False\n",
    "        \n",
    "    else:\n",
    "        for letter in s:\n",
    "            if letter == \"(\":\n",
    "                cur += 1\n",
    "            elif letter == \")\":\n",
    "                cur -= 1\n",
    "        answer = True if cur == 0 else False \n",
    "\n",
    "    return answer\n"
   ]
  },
  {
   "cell_type": "markdown",
   "metadata": {},
   "source": [
    "## 스택/큐 > 기능개발\n",
    "https://school.programmers.co.kr/learn/courses/30/lessons/42586"
   ]
  },
  {
   "cell_type": "code",
   "execution_count": 3,
   "metadata": {},
   "outputs": [
    {
     "data": {
      "text/plain": [
       "[1]"
      ]
     },
     "execution_count": 3,
     "metadata": {},
     "output_type": "execute_result"
    }
   ],
   "source": [
    "def solution(progresses, speeds):\n",
    "    answer = []\n",
    "    cur = 0\n",
    "    remainings = [100 - progress for progress in progresses]\n",
    "    for index in range(len(remainings)):\n",
    "        try:\n",
    "            if remainings[index] <= remainings[index+1]:\n",
    "                cur = index+1\n",
    "            else:\n",
    "                cur = index\n",
    "            for count in range(cur+1): remainings.pop(0)\n",
    "            answer.append(cur)\n",
    "        except:\n",
    "            continue\n",
    "    return answer\n",
    "        \n",
    "    \n",
    "    \n",
    "solution([93, 30, 55], [1, 30, 5])"
   ]
  },
  {
   "cell_type": "markdown",
   "metadata": {},
   "source": [
    "## 스택/큐 > 프로세스\n",
    "https://school.programmers.co.kr/learn/courses/30/lessons/42587 "
   ]
  },
  {
   "cell_type": "code",
   "execution_count": 61,
   "metadata": {},
   "outputs": [],
   "source": [
    "from queue import PriorityQueue\n",
    "\n",
    "def solution(priorities, location):\n",
    "\n",
    "    pq = PriorityQueue(maxsize=len(priorities))\n",
    "    nth = 0\n",
    "\n",
    "    for priority, index in zip(priorities,range(len(priorities))):\n",
    "        pq.put((priority*-1, index))\n",
    "\n",
    "    while pq.qsize() > 0:\n",
    "        if pq.get()[1] == location:\n",
    "            nth += 1\n",
    "            break\n",
    "        else:\n",
    "            nth += 1\n",
    "    \n",
    "    return nth"
   ]
  },
  {
   "cell_type": "code",
   "execution_count": 64,
   "metadata": {},
   "outputs": [
    {
     "data": {
      "text/plain": [
       "2"
      ]
     },
     "execution_count": 64,
     "metadata": {},
     "output_type": "execute_result"
    }
   ],
   "source": [
    "solution([1, 1, 9, 1, 1, 1], 0)"
   ]
  },
  {
   "cell_type": "markdown",
   "metadata": {},
   "source": [
    "## 스택/큐 > 다리를 지나는 트럭\n",
    "https://school.programmers.co.kr/learn/courses/30/lessons/42583"
   ]
  },
  {
   "cell_type": "code",
   "execution_count": 109,
   "metadata": {},
   "outputs": [],
   "source": [
    "def solution(bridge_length, weight, truck_weights):\n",
    "    \n",
    "    time = 0\n",
    "    bridge = []\n",
    "    passed = []\n",
    "\n",
    "    while len(truck_weights) > 0 or len(bridge_length) > 0:\n",
    "        \n",
    "        bridge.append(truck_weights.pop(0))\n",
    "        \n",
    "        passed.append(bridge.pop(0))\n",
    "\n",
    "        print(passed, bridge)\n",
    "\n",
    "    # return bridge,passed\n",
    "\n",
    "\n"
   ]
  },
  {
   "cell_type": "code",
   "execution_count": 110,
   "metadata": {},
   "outputs": [
    {
     "name": "stdout",
     "output_type": "stream",
     "text": [
      "[7] []\n",
      "[7, 4] []\n",
      "[7, 4, 5] []\n",
      "[7, 4, 5, 6] []\n"
     ]
    },
    {
     "ename": "IndexError",
     "evalue": "pop from empty list",
     "output_type": "error",
     "traceback": [
      "\u001b[0;31m---------------------------------------------------------------------------\u001b[0m",
      "\u001b[0;31mIndexError\u001b[0m                                Traceback (most recent call last)",
      "\u001b[1;32m/Users/cathiekim/Library/CloudStorage/GoogleDrive-makjn4029@gmail.com/My Drive/github-myoungah/python-algorithm-practice/programmers_coding_test.ipynb Cell 19\u001b[0m line \u001b[0;36m<cell line: 1>\u001b[0;34m()\u001b[0m\n\u001b[0;32m----> <a href='vscode-notebook-cell:/Users/cathiekim/Library/CloudStorage/GoogleDrive-makjn4029%40gmail.com/My%20Drive/github-myoungah/python-algorithm-practice/programmers_coding_test.ipynb#X24sZmlsZQ%3D%3D?line=0'>1</a>\u001b[0m solution([\u001b[39m2\u001b[39;49m,\u001b[39m2\u001b[39;49m,\u001b[39m2\u001b[39;49m,\u001b[39m1\u001b[39;49m], \u001b[39m10\u001b[39;49m, [\u001b[39m7\u001b[39;49m,\u001b[39m4\u001b[39;49m,\u001b[39m5\u001b[39;49m,\u001b[39m6\u001b[39;49m])\n",
      "\u001b[1;32m/Users/cathiekim/Library/CloudStorage/GoogleDrive-makjn4029@gmail.com/My Drive/github-myoungah/python-algorithm-practice/programmers_coding_test.ipynb Cell 19\u001b[0m line \u001b[0;36msolution\u001b[0;34m(bridge_length, weight, truck_weights)\u001b[0m\n\u001b[1;32m      <a href='vscode-notebook-cell:/Users/cathiekim/Library/CloudStorage/GoogleDrive-makjn4029%40gmail.com/My%20Drive/github-myoungah/python-algorithm-practice/programmers_coding_test.ipynb#X24sZmlsZQ%3D%3D?line=4'>5</a>\u001b[0m passed \u001b[39m=\u001b[39m []\n\u001b[1;32m      <a href='vscode-notebook-cell:/Users/cathiekim/Library/CloudStorage/GoogleDrive-makjn4029%40gmail.com/My%20Drive/github-myoungah/python-algorithm-practice/programmers_coding_test.ipynb#X24sZmlsZQ%3D%3D?line=6'>7</a>\u001b[0m \u001b[39mwhile\u001b[39;00m \u001b[39mlen\u001b[39m(truck_weights) \u001b[39m>\u001b[39m \u001b[39m0\u001b[39m \u001b[39mor\u001b[39;00m \u001b[39mlen\u001b[39m(bridge_length) \u001b[39m>\u001b[39m \u001b[39m0\u001b[39m:\n\u001b[0;32m----> <a href='vscode-notebook-cell:/Users/cathiekim/Library/CloudStorage/GoogleDrive-makjn4029%40gmail.com/My%20Drive/github-myoungah/python-algorithm-practice/programmers_coding_test.ipynb#X24sZmlsZQ%3D%3D?line=7'>8</a>\u001b[0m     bridge\u001b[39m.\u001b[39mappend(truck_weights\u001b[39m.\u001b[39;49mpop(\u001b[39m0\u001b[39;49m))\n\u001b[1;32m      <a href='vscode-notebook-cell:/Users/cathiekim/Library/CloudStorage/GoogleDrive-makjn4029%40gmail.com/My%20Drive/github-myoungah/python-algorithm-practice/programmers_coding_test.ipynb#X24sZmlsZQ%3D%3D?line=8'>9</a>\u001b[0m     passed\u001b[39m.\u001b[39mappend(bridge\u001b[39m.\u001b[39mpop(\u001b[39m0\u001b[39m))\n\u001b[1;32m     <a href='vscode-notebook-cell:/Users/cathiekim/Library/CloudStorage/GoogleDrive-makjn4029%40gmail.com/My%20Drive/github-myoungah/python-algorithm-practice/programmers_coding_test.ipynb#X24sZmlsZQ%3D%3D?line=10'>11</a>\u001b[0m     \u001b[39mprint\u001b[39m(passed, bridge)\n",
      "\u001b[0;31mIndexError\u001b[0m: pop from empty list"
     ]
    }
   ],
   "source": [
    "solution([2,2,2,1], 10, [7,4,5,6])"
   ]
  },
  {
   "cell_type": "code",
   "execution_count": 10,
   "metadata": {},
   "outputs": [
    {
     "name": "stdout",
     "output_type": "stream",
     "text": [
      "[] []\n",
      "7 2\n",
      "[] []\n",
      "4 2\n",
      "[] []\n",
      "5 2\n",
      "[] []\n",
      "6 1\n"
     ]
    }
   ],
   "source": [
    "truck_weights = [7,4,5,6]\n",
    "bridge_length = [2,2,2,1]\n",
    "bridge = []\n",
    "passed = []\n",
    "\n",
    "for weight, time in zip(truck_weights,bridge_length):\n",
    "    \n",
    "    print(passed, bridge)\n",
    "    print(weight, time)\n",
    "    bridge.append(truck_weights.pop(0))\n",
    "\n",
    "\n",
    "# print(passed, bridge)"
   ]
  },
  {
   "cell_type": "code",
   "execution_count": 7,
   "metadata": {},
   "outputs": [
    {
     "name": "stdout",
     "output_type": "stream",
     "text": [
      "4 2\n",
      "5 2\n",
      "6 2\n"
     ]
    }
   ],
   "source": [
    "for weight, time in zip(truck_weights,bridge_length):\n",
    "    print(weight, time)"
   ]
  }
 ],
 "metadata": {
  "kernelspec": {
   "display_name": "Python 3",
   "language": "python",
   "name": "python3"
  },
  "language_info": {
   "codemirror_mode": {
    "name": "ipython",
    "version": 3
   },
   "file_extension": ".py",
   "mimetype": "text/x-python",
   "name": "python",
   "nbconvert_exporter": "python",
   "pygments_lexer": "ipython3",
   "version": "3.10.8"
  },
  "orig_nbformat": 4
 },
 "nbformat": 4,
 "nbformat_minor": 2
}
